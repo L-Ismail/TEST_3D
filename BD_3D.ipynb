{
 "cells": [
  {
   "cell_type": "code",
   "execution_count": 7,
   "id": "4a4c7e26",
   "metadata": {},
   "outputs": [],
   "source": [
    "#Entête/importation des données \n",
    "import flask\n",
    "\n",
    "import sqlite3 as sl \n",
    "\n",
    "connexion = sl.connect(\"site_3D_1.db\")\n",
    "\n",
    "curseur = connexion.cursor()\n"
   ]
  },
  {
   "cell_type": "code",
   "execution_count": null,
   "id": "468e1571-1d4e-4f74-b31b-6772a1a09d25",
   "metadata": {},
   "outputs": [],
   "source": []
  },
  {
   "cell_type": "code",
   "execution_count": 10,
   "id": "55519b4c",
   "metadata": {},
   "outputs": [
    {
     "data": {
      "text/plain": [
       "<sqlite3.Cursor at 0x18985a7fec0>"
      ]
     },
     "execution_count": 10,
     "metadata": {},
     "output_type": "execute_result"
    }
   ],
   "source": [
    "curseur.execute (\"PRAGMA foreign_keys = ON\")\n",
    "curseur.execute (\"DROP TABLE IF EXISTS Fichier_stl\")\n",
    "curseur.execute (\"DROP TABLE IF EXISTS Client\")\n",
    "curseur.execute (\"DROP TABLE IF EXISTS tags\")\n",
    "curseur.execute (\"DROP TABLE IF EXISTS fichier_tags\")\n"
   ]
  },
  {
   "cell_type": "code",
   "execution_count": 12,
   "id": "85cf03f3",
   "metadata": {
    "scrolled": true
   },
   "outputs": [
    {
     "data": {
      "text/plain": [
       "<sqlite3.Cursor at 0x18985a7fec0>"
      ]
     },
     "execution_count": 12,
     "metadata": {},
     "output_type": "execute_result"
    }
   ],
   "source": [
    "#Question 1+2 : ----------\n",
    "\n",
    "curseur.execute ('''CREATE TABLE Fichier_stl(\n",
    "code_variable CHAR (8) PRIMARY KEY,\n",
    "libellé VARCHAR(30),\n",
    "val_defaut INTEGER,\n",
    "val_min INTEGER,\n",
    "val_max INTEGER,\n",
    "description VARCHAR (190),\n",
    "chemin_serv TEXT\n",
    ")\n",
    "''')\n",
    "\n",
    "\n",
    "curseur.execute ('''CREATE TABLE Client(\n",
    "identifiantC VARCHAR (15) PRIMARY KEY,\n",
    "nom VARCHAR (90), \n",
    "adresse VARCHAR (110),\n",
    "date_commande VARCHAR (40),\n",
    "date_livraison VARCHAR (40),\n",
    "paramètres_choisis VARCHAR (200),\n",
    "FOREIGN KEY (paramètres_choisis) REFERENCES Fichier_stl(code_variable)\n",
    ")\n",
    "''')\n",
    "\n",
    "curseur.execute('''CREATE TABLE tags (\n",
    "    id INTEGER PRIMARY KEY AUTOINCREMENT,\n",
    "    nom TEXT UNIQUE NOT NULL\n",
    ")\n",
    "''')\n",
    "\n",
    "curseur.execute('''CREATE TABLE fichier_tags (\n",
    "    fichier_id INTEGER,\n",
    "    tag_id INTEGER,\n",
    "    FOREIGN KEY (fichier_id) REFERENCES fichiers_stl(code_variable),\n",
    "    FOREIGN KEY (tag_id) REFERENCES tags(id)\n",
    ")\n",
    "''')\n",
    "\n"
   ]
  },
  {
   "cell_type": "code",
   "execution_count": 14,
   "id": "76477b38-23d0-4c1d-a3fa-1e718381075c",
   "metadata": {},
   "outputs": [
    {
     "data": {
      "text/plain": [
       "<sqlite3.Cursor at 0x18985a7fec0>"
      ]
     },
     "execution_count": 14,
     "metadata": {},
     "output_type": "execute_result"
    }
   ],
   "source": [
    "donnees1 = [(\"C1234567\", \"Coeur3D\", 8, 6, 15, \"coeur en 3D\", \"modèles/12.scad\")]\n",
    "\n",
    "curseur.executemany(\"INSERT INTO Fichier_stl (code_variable, libellé, val_defaut, val_min, val_max, description, chemin_serv) VALUES ( ?, ?, ?, ?, ?, ?, ?) \",\n",
    "donnees1)"
   ]
  },
  {
   "cell_type": "code",
   "execution_count": 16,
   "id": "a2aea0e8",
   "metadata": {},
   "outputs": [
    {
     "data": {
      "text/plain": [
       "<sqlite3.Cursor at 0x18985a7fec0>"
      ]
     },
     "execution_count": 16,
     "metadata": {},
     "output_type": "execute_result"
    }
   ],
   "source": [
    "#Question 1+2 : ----------\n",
    "\n",
    "donnees = [(\"LDV123\", \"Léonard de Vinci\", \"Rome\", \"16/02/2025\", \"24/02/2025\", \"C1234567\")]\n",
    "\n",
    "curseur.executemany(\"INSERT INTO Client (identifiantC, nom, adresse, date_commande, date_livraison, paramètres_choisis) VALUES ( ?, ?, ?, ?, ?, ?) \",\n",
    "donnees)"
   ]
  },
  {
   "cell_type": "code",
   "execution_count": 18,
   "id": "052af43c",
   "metadata": {},
   "outputs": [],
   "source": [
    "#Fonction permettant de récupérer les informations d’un fichier donnée en utilisant son identifiant.\n",
    "def info_fichier(code) :\n",
    "    curseur.execute(\"SELECT * FROM Fichier_stl WHERE code_variable = ?\", (code,))\n",
    "    print (\"Informations fichier-------\\n\", curseur.fetchall())"
   ]
  },
  {
   "cell_type": "code",
   "execution_count": 20,
   "id": "a1bf0f12",
   "metadata": {},
   "outputs": [
    {
     "name": "stdout",
     "output_type": "stream",
     "text": [
      "Informations fichier-------\n",
      " [('C1234567', 'Coeur3D', 8, 6, 15, 'coeur en 3D', 'modèles/12.scad')]\n"
     ]
    }
   ],
   "source": [
    "info_fichier(\"C1234567\")"
   ]
  },
  {
   "cell_type": "code",
   "execution_count": 41,
   "id": "9b99132d",
   "metadata": {},
   "outputs": [],
   "source": [
    "#Question 5 :Proposez une fonction permettant d'obtenir la liste des oeuvres d’art dans une exposition donnée. \n",
    "#Affichez les descriptions des oeuvres d’art et le lieu de l’exposition.\n",
    "def info_expo(c_client) :\n",
    "    curseur.execute(\"SELECT F.val_defaut, F.val_min, F.val_max FROM Fichier_stl as F INNER JOIN Client as C ON C.paramètres_choisis = F.code_variable WHERE identifiantC = ?\", (c_client,))\n",
    "    print (\"Paramètres choisis par le client-------\\n\", curseur.fetchall())"
   ]
  },
  {
   "cell_type": "code",
   "execution_count": 43,
   "id": "a11fbaf2",
   "metadata": {},
   "outputs": [
    {
     "name": "stdout",
     "output_type": "stream",
     "text": [
      "Paramètres choisis par le client-------\n",
      " []\n"
     ]
    }
   ],
   "source": [
    "info_expo(\"LDV123\")"
   ]
  },
  {
   "cell_type": "code",
   "execution_count": 45,
   "id": "c01008c4",
   "metadata": {},
   "outputs": [],
   "source": [
    "#ENTRAINEMENT,NE PAS TENIR COMPTE SVP.\n",
    "#Proposez une fonction permettant d'obtenir le total des ventes des oeuvres d’art dans une exposition donnée\n",
    "#def vente(galerie):\n",
    "#    curseur.execute(\"SELECT SUM(prix) FROM vente WHERE vendue= 1 AND galerie_art = ?\", (galerie,))\n",
    "#    print (\"Total_vendu-------\\n\", curseur.fetchall())"
   ]
  },
  {
   "cell_type": "code",
   "execution_count": null,
   "id": "69c919df",
   "metadata": {},
   "outputs": [],
   "source": [
    "##ENTRAINEMENT,NE PAS TENIR COMPTE SVP.\n",
    "#Proposez une fonction permettant de récupérer toutes les oeuvres d’art qui sont actuellement en exposition. \n",
    "#Affichez les noms des réalisateurs et la durée de l’exposition pour chacune.\n",
    "#def vente2():\n",
    "#    curseur.execute(\"SELECT realisateur, durée FROM vente AS V INNER JOIN Oeuvre_Art AS A ON oeuvre = identifiant INNER JOIN exposition AS E ON identifiantE=identifiantEV WHERE vendue= 0\")\n",
    "#    print (\"Oeuvres en expositions-------\\n\", curseur.fetchall())"
   ]
  },
  {
   "cell_type": "code",
   "execution_count": null,
   "id": "71b238d2",
   "metadata": {},
   "outputs": [],
   "source": [
    "#vente2()"
   ]
  },
  {
   "cell_type": "code",
   "execution_count": null,
   "id": "fed2f0ab",
   "metadata": {},
   "outputs": [],
   "source": [
    "#ENTRAINEMENT,NE PAS TENIR COMPTE SVP.\n",
    "#Proposez une fonction permettant de mettre à jour l’état d’une oeuvre d’art à \"Vendue\" une fois la vente est réalisée.\n",
    "#def majvendue(identOV: str):\n",
    "#    curseur.execute(\"UPDATE vente SET vendue = 1 WHERE identifiantO = ? \",(identOV,))"
   ]
  },
  {
   "cell_type": "code",
   "execution_count": null,
   "id": "7bbe6102",
   "metadata": {},
   "outputs": [],
   "source": [
    "#majvendue(\"IncoMILO\")"
   ]
  },
  {
   "cell_type": "code",
   "execution_count": null,
   "id": "78ee6951",
   "metadata": {},
   "outputs": [],
   "source": [
    "#ENTRAINEMENT,NE PAS TENIR COMPTE SVP.\n",
    "#Proposez une fonction qui permet de rechercher des expositions en fonction de certains critères tels que le lieu, \n",
    "#le nom du réalisateur de l’oeuvre d’art, la date de début et de fin de l’exposition. La fonction devrait renvoyer une liste\n",
    "#des expositions correspondant aux critères de recherche.\n",
    "#def recherche (lieu, réalisateur, début, fin):\n",
    "#curseur.execute(\"SELECT nom_Expo FROM exposition AS E INNER JOIN Oeuvre_Art AS A ON identifiant = identifiantO INNER JOIN vente AS V ON identifiant=identifiantO WHERE lieu= ? AND realisateur = ? AND date_debut = ? AND date_fin= ?\", (lieu, réalisateur, début, fin,))\n",
    "#    v=list(curseur.fetchall())\n",
    "#    print (\"Oeuvres en expositions-------\\n\", v)\n"
   ]
  },
  {
   "cell_type": "code",
   "execution_count": null,
   "id": "146b03fe",
   "metadata": {},
   "outputs": [],
   "source": [
    "#recherche (\"Paris\", \"Léonard de Vinci\", 1550, 2023)"
   ]
  },
  {
   "cell_type": "code",
   "execution_count": null,
   "id": "4f4aa5d1",
   "metadata": {},
   "outputs": [],
   "source": [
    "#ENTRAINEMENT,NE PAS TENIR COMPTE SVP.\n",
    "#Question 10 : Créez des fonctions qui génèrent des rapports statistiques sur la gestion des ventes de la galerie d’art, \n",
    "#tels que le nombre total de ventes effectuées par exposition, les oeuvre d’art les plus chères, etc.\n",
    "\n",
    "#def stat(galerie):\n",
    "#    curseur.execute(\"SELECT galerie_art, SUM(prix), MAX(prix) FROM vente WHERE galerie_art = ? AND vendue = 1 GROUP BY galerie_art\", (galerie,))\n",
    "#    print(\"Rapport des ventes de la galerie----------\\n\", curseur.fetchall())"
   ]
  },
  {
   "cell_type": "code",
   "execution_count": null,
   "id": "e178652f",
   "metadata": {},
   "outputs": [],
   "source": [
    "#stat(\"art von Berlin\")"
   ]
  },
  {
   "cell_type": "code",
   "execution_count": null,
   "id": "95216060-5460-4648-873d-0e395ae7474e",
   "metadata": {},
   "outputs": [],
   "source": []
  },
  {
   "cell_type": "code",
   "execution_count": null,
   "id": "8a7aea1d",
   "metadata": {},
   "outputs": [],
   "source": [
    "curseur.close()\n",
    "connexion.close()"
   ]
  },
  {
   "cell_type": "code",
   "execution_count": null,
   "id": "d7e008bd",
   "metadata": {},
   "outputs": [
    {
     "data": {
      "text/plain": [
       "'Par Ismaël DIALLO.'"
      ]
     },
     "execution_count": 39,
     "metadata": {},
     "output_type": "execute_result"
    }
   ],
   "source": [
    "\"Par Ismaël DIALLO.\""
   ]
  },
  {
   "cell_type": "code",
   "execution_count": 3,
   "id": "fd704d8f",
   "metadata": {},
   "outputs": [],
   "source": [
    "from flask import Flask, render_template, request, redirect, url_for\n",
    "from flask_sqlalchemy import SQLAlchemy\n",
    "from threading import Thread\n",
    "\n",
    "app = Flask(__name__)\n",
    "\n",
    "# Database configuration\n",
    "app.config['SQLALCHEMY_DATABASE_URI'] = 'sqlite:///database.db'\n",
    "app.config['SQLALCHEMY_TRACK_MODIFICATIONS'] = False\n",
    "\n",
    "db = SQLAlchemy(app)\n",
    "\n",
    "# Define a model\n",
    "class User(db.Model):\n",
    "    id = db.Column(db.Integer, primary_key=True)\n",
    "    name = db.Column(db.String(100), nullable=False)\n",
    "\n",
    "# Create the database tables\n",
    "with app.app_context():\n",
    "    db.create_all()\n",
    "\n",
    "# Home route to display users and a form\n",
    "@app.route('/', methods=['GET', 'POST'])\n",
    "def index():\n",
    "    if request.method == 'POST':\n",
    "        name = request.form['name']\n",
    "        if name:\n",
    "            user = User(name=name)\n",
    "            db.session.add(user)\n",
    "            db.session.commit()\n",
    "            return redirect(url_for('index'))\n",
    "    \n",
    "    users = User.query.all()\n",
    "    return render_template('index.html', users=users)\n",
    "\n",
    "# Run Flask in a separate thread\n",
    "def run_flask():\n",
    "    app.run(host='127.0.0.1', port=5000, debug=False, use_reloader=False)\n",
    "\n",
    "flask_thread = Thread(target=run_flask)\n",
    "flask_thread.start()\n"
   ]
  },
  {
   "cell_type": "code",
   "execution_count": 5,
   "id": "7f0e0561-d1e4-41a1-bf19-e8d21ff6efb0",
   "metadata": {},
   "outputs": [],
   "source": [
    "html_template = \"\"\"\n",
    "<!DOCTYPE html>\n",
    "<html lang=\"en\">\n",
    "<head>\n",
    "    <meta charset=\"UTF-8\">\n",
    "    <meta name=\"viewport\" content=\"width=device-width, initial-scale=1.0\">\n",
    "    <title>User List</title>\n",
    "    <style>\n",
    "        body { font-family: Arial, sans-serif; text-align: center; margin-top: 50px; }\n",
    "        form { margin-bottom: 20px; }\n",
    "        input { padding: 5px; }\n",
    "        button { padding: 5px 10px; }\n",
    "        ul { list-style: none; padding: 0; }\n",
    "        li { padding: 5px; border-bottom: 1px solid #ddd; }\n",
    "    </style>\n",
    "</head>\n",
    "<body>\n",
    "    <h1>User List</h1>\n",
    "    <form method=\"POST\">\n",
    "        <input type=\"text\" name=\"name\" placeholder=\"Enter name\" required>\n",
    "        <button type=\"submit\">Add User</button>\n",
    "    </form>\n",
    "    <ul>\n",
    "        {% for user in users %}\n",
    "            <li>{{ user.name }}</li>\n",
    "        {% endfor %}\n",
    "    </ul>\n",
    "</body>\n",
    "</html>\n",
    "\"\"\"\n",
    "\n",
    "# Save the template in the \"templates\" folder\n",
    "import os\n",
    "\n",
    "os.makedirs(\"templates\", exist_ok=True)\n",
    "with open(\"templates/index.html\", \"w\") as file:\n",
    "    file.write(html_template)\n"
   ]
  },
  {
   "cell_type": "code",
   "execution_count": null,
   "id": "0ba5ade2-688c-42fc-ab12-b9af88baf505",
   "metadata": {},
   "outputs": [],
   "source": []
  }
 ],
 "metadata": {
  "kernelspec": {
   "display_name": "Python 3 (ipykernel)",
   "language": "python",
   "name": "python3"
  },
  "language_info": {
   "codemirror_mode": {
    "name": "ipython",
    "version": 3
   },
   "file_extension": ".py",
   "mimetype": "text/x-python",
   "name": "python",
   "nbconvert_exporter": "python",
   "pygments_lexer": "ipython3",
   "version": "3.12.4"
  }
 },
 "nbformat": 4,
 "nbformat_minor": 5
}
